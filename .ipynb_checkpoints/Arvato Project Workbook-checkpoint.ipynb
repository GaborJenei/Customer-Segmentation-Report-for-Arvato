{
 "cells": [
  {
   "cell_type": "markdown",
   "metadata": {},
   "source": [
    "# Capstone Project: Create a Customer Segmentation Report for Arvato Financial Services\n",
    "\n",
    "In this project, you will analyze demographics data for customers of a mail-order sales company in Germany, comparing it against demographics information for the general population. You'll use unsupervised learning techniques to perform customer segmentation, identifying the parts of the population that best describe the core customer base of the company. Then, you'll apply what you've learned on a third dataset with demographics information for targets of a marketing campaign for the company, and use a model to predict which individuals are most likely to convert into becoming customers for the company. The data that you will use has been provided by our partners at Bertelsmann Arvato Analytics, and represents a real-life data science task.\n",
    "\n",
    "If you completed the first term of this program, you will be familiar with the first part of this project, from the unsupervised learning project. The versions of those two datasets used in this project will include many more features and has not been pre-cleaned. You are also free to choose whatever approach you'd like to analyzing the data rather than follow pre-determined steps. In your work on this project, make sure that you carefully document your steps and decisions, since your main deliverable for this project will be a blog post reporting your findings."
   ]
  },
  {
   "cell_type": "code",
   "execution_count": 1,
   "metadata": {},
   "outputs": [],
   "source": [
    "# import libraries here; add more as necessary\n",
    "import numpy as np\n",
    "import pandas as pd\n",
    "import matplotlib.pyplot as plt\n",
    "import seaborn as sns\n",
    "\n",
    "# magic word for producing visualizations in notebook\n",
    "%matplotlib inline"
   ]
  },
  {
   "cell_type": "markdown",
   "metadata": {},
   "source": [
    "## Part 0: Get to Know the Data\n",
    "\n",
    "There are four data files associated with this project:\n",
    "\n",
    "- `Udacity_AZDIAS_052018.csv`: Demographics data for the general population of Germany; 891 211 persons (rows) x 366 features (columns).\n",
    "- `Udacity_CUSTOMERS_052018.csv`: Demographics data for customers of a mail-order company; 191 652 persons (rows) x 369 features (columns).\n",
    "- `Udacity_MAILOUT_052018_TRAIN.csv`: Demographics data for individuals who were targets of a marketing campaign; 42 982 persons (rows) x 367 (columns).\n",
    "- `Udacity_MAILOUT_052018_TEST.csv`: Demographics data for individuals who were targets of a marketing campaign; 42 833 persons (rows) x 366 (columns).\n",
    "\n",
    "Each row of the demographics files represents a single person, but also includes information outside of individuals, including information about their household, building, and neighborhood. Use the information from the first two files to figure out how customers (\"CUSTOMERS\") are similar to or differ from the general population at large (\"AZDIAS\"), then use your analysis to make predictions on the other two files (\"MAILOUT\"), predicting which recipients are most likely to become a customer for the mail-order company.\n",
    "\n",
    "The \"CUSTOMERS\" file contains three extra columns ('CUSTOMER_GROUP', 'ONLINE_PURCHASE', and 'PRODUCT_GROUP'), which provide broad information about the customers depicted in the file. The original \"MAILOUT\" file included one additional column, \"RESPONSE\", which indicated whether or not each recipient became a customer of the company. For the \"TRAIN\" subset, this column has been retained, but in the \"TEST\" subset it has been removed; it is against that withheld column that your final predictions will be assessed in the Kaggle competition.\n",
    "\n",
    "Otherwise, all of the remaining columns are the same between the three data files. For more information about the columns depicted in the files, you can refer to two Excel spreadsheets provided in the workspace. [One of them](./DIAS Information Levels - Attributes 2017.xlsx) is a top-level list of attributes and descriptions, organized by informational category. [The other](./DIAS Attributes - Values 2017.xlsx) is a detailed mapping of data values for each feature in alphabetical order.\n",
    "\n",
    "In the below cell, we've provided some initial code to load in the first two datasets. Note for all of the `.csv` data files in this project that they're semicolon (`;`) delimited, so an additional argument in the [`read_csv()`](https://pandas.pydata.org/pandas-docs/stable/generated/pandas.read_csv.html) call has been included to read in the data properly. Also, considering the size of the datasets, it may take some time for them to load completely.\n",
    "\n",
    "You'll notice when the data is loaded in that a warning message will immediately pop up. Before you really start digging into the modeling and analysis, you're going to need to perform some cleaning. Take some time to browse the structure of the data and look over the informational spreadsheets to understand the data values. Make some decisions on which features to keep, which features to drop, and if any revisions need to be made on data formats. It'll be a good idea to create a function with pre-processing steps, since you'll need to clean all of the datasets before you work with them."
   ]
  },
  {
   "cell_type": "markdown",
   "metadata": {},
   "source": [
    "## TODO Explore data"
   ]
  },
  {
   "cell_type": "code",
   "execution_count": null,
   "metadata": {
    "scrolled": false
   },
   "outputs": [],
   "source": [
    "# load in the data\n",
    "azdias = pd.read_csv('../data/Udacity_AZDIAS_052018.csv', sep=';')\n",
    "customers = pd.read_csv('../data/Udacity_CUSTOMERS_052018.csv', sep=';')\n",
    "\n",
    "print(azdias.shape)\n",
    "azdias.head()"
   ]
  },
  {
   "cell_type": "markdown",
   "metadata": {},
   "source": [
    "# Cleaning"
   ]
  },
  {
   "cell_type": "markdown",
   "metadata": {},
   "source": [
    "## Data dictionary\n",
    "Check possible values, their encooding, missmatched columns"
   ]
  },
  {
   "cell_type": "code",
   "execution_count": null,
   "metadata": {},
   "outputs": [],
   "source": [
    "# Read up data dictionary\n",
    "df_dictionary = pd.read_excel('../data/DIAS Attributes - Values 2017.xlsx', skiprows=1, usecols=[1,2,3,4])\n",
    "df_dictionary['Attribute'].fillna(method='ffill', inplace=True)\n",
    "df_dictionary['Description'].fillna(method='ffill', inplace=True)\n",
    "df_dictionary.loc[df_dictionary['Value']=='…', 'Type'] = 'continous'\n",
    "df_dictionary.loc[~(df_dictionary['Value']=='…'), 'Type'] = 'non-continous'\n",
    "\n",
    "# Split the cells with list values '-1, 0' -> ['-1', '0']\n",
    "df_splitvals = df_dictionary['Value'].str.split(',')\n",
    "split_rows = ~df_splitvals.isnull()\n",
    "df_dictionary.loc[split_rows, 'Value'] = df_splitvals.loc[split_rows]\n",
    "\n",
    "# New row for cells with list items\n",
    "df_dictionary = df_dictionary.explode('Value')\n",
    "\n",
    "# Convert string numbers to numerical\n",
    "all_values = df_dictionary['Value']\n",
    "df_dictionary['Value'] = pd.to_numeric(df_dictionary['Value'], errors='coerce', downcast='integer')\n",
    "df_dictionary['Value'] = df_dictionary['Value'].fillna(all_values)\n",
    "\n",
    "# Create list of possible values and missing values by column\n",
    "data_type = df_dictionary[['Attribute', 'Type']].drop_duplicates()\n",
    "\n",
    "# Create columns with possible values\n",
    "possible_values = df_dictionary.groupby(by='Attribute')['Value'].apply(list)\n",
    "print(len(possible_values), len(data_type))\n",
    "data_type = data_type.merge(possible_values, left_on='Attribute', right_index=True).reset_index(drop=True)\n",
    "print(len(data_type))\n",
    "\n",
    "# missing values\n",
    "df_missing = df_dictionary[df_dictionary['Meaning'].astype('str').str.contains('unknown|no classification possible|no transactions known')]\n",
    "missing_values = df_missing.groupby(by='Attribute')['Value'].apply(list)\n",
    "data_type = data_type.merge(missing_values, left_on='Attribute', right_index=True, how='left').reset_index(drop=True)\n",
    "print(len(data_type))\n",
    "data_type.rename(columns={'Value_x':'Values','Value_y':'Missing values'}, inplace=True)"
   ]
  },
  {
   "cell_type": "code",
   "execution_count": null,
   "metadata": {},
   "outputs": [],
   "source": [
    "data_type.head()"
   ]
  },
  {
   "cell_type": "code",
   "execution_count": null,
   "metadata": {},
   "outputs": [],
   "source": [
    "# Tidy up mismatched column names\n",
    "cols_customers = customers.columns\n",
    "cols_azdias = azdias.columns\n",
    "cols_datadict = sorted(data_type['Attribute'])\n",
    "print(len(cols_customers))\n",
    "print(len(cols_azdias))\n",
    "print(len(cols_datadict))\n",
    "\n",
    "df_cols = pd.Series(sorted(cols_customers), name='customers').to_frame()\n",
    "df_cols = df_cols.merge(pd.Series(sorted(cols_azdias), name='azdias').to_frame(), left_on='customers', right_on='azdias', how='outer')\n",
    "\n",
    "# Deal with mis-spelled column names\n",
    "# in all three sets: rename the _RZ\n",
    "cols_datadict = [col[0:-3] if col[-3:]=='_RZ' else col for col in cols_datadict ]\n",
    "df_cols.loc[df_cols['customers']=='D19_BUCH_CD'] = 'D19_BUCH'\n",
    "\n",
    "# in data dictionary: KBA13_CCM_1400_2500 -> KBA13_CCM_1401_2500\n",
    "df_dict_cols = pd.Series(sorted(cols_datadict), name='dictionary').to_frame()\n",
    "df_dict_cols.loc[df_dict_cols['dictionary']=='KBA13_CCM_1400_2500']='KBA13_CCM_1401_2500'\n",
    "\n",
    "# in data dictionary: CAMEO_DEUINTL_2015 -> CAMEO_INTL_2015\n",
    "df_dict_cols.loc[df_dict_cols['dictionary']=='CAMEO_DEUINTL_2015']='CAMEO_INTL_2015'\n",
    "\n",
    "# in data dictionary: SOHO_FLAG -> SOHO_KZ\n",
    "df_dict_cols.loc[df_dict_cols['dictionary']=='SOHO_FLAG']='SOHO_KZ'\n",
    "\n",
    "df_cols = df_cols.merge(df_dict_cols, left_on='customers', right_on='dictionary', how='outer')\n",
    "df_cols['All Cols']=df_cols.fillna(method='pad', axis=1)['dictionary']\n",
    "len(df_cols)"
   ]
  },
  {
   "cell_type": "code",
   "execution_count": null,
   "metadata": {},
   "outputs": [],
   "source": [
    "# rename columns in data dictionary\n",
    "data_type['Attribute'] = data_type['Attribute'].str.replace('_RZ', '', regex=True)\n",
    "col_name_changes = {'KBA13_CCM_1400_2500':'KBA13_CCM_1401_2500',\n",
    "                    'CAMEO_DEUINTL_2015':'CAMEO_INTL_2015',\n",
    "                    'SOHO_FLAG': 'SOHO_KZ'}\n",
    "\n",
    "data_type['Attribute'] = data_type['Attribute'].replace(col_name_changes)\n",
    "\n",
    "# rename column in customer and azdias\n",
    "azdias.columns = azdias.columns.str.replace('D19_BUCH_CD', 'D19_BUCH')\n",
    "customers.columns = customers.columns.str.replace('D19_BUCH_CD', 'D19_BUCH')"
   ]
  },
  {
   "cell_type": "code",
   "execution_count": null,
   "metadata": {},
   "outputs": [],
   "source": [
    "# Checks\n",
    "cols_to_drop = df_cols[df_cols.isnull().any(axis=1)]['All Cols'].values\n",
    "print(len(cols_to_drop))\n",
    "cols_to_drop[:20]"
   ]
  },
  {
   "cell_type": "code",
   "execution_count": null,
   "metadata": {
    "scrolled": true
   },
   "outputs": [],
   "source": [
    "# Check if df is updated\n",
    "df_cols[df_cols['All Cols'].str.contains('CAMEO|KBA13_CCM_140')]"
   ]
  },
  {
   "cell_type": "markdown",
   "metadata": {},
   "source": [
    "## Keep columns present in both dataset at the same time."
   ]
  },
  {
   "cell_type": "code",
   "execution_count": null,
   "metadata": {},
   "outputs": [],
   "source": [
    "# Drop all non matching columns\n",
    "cols_to_drop_azdias = [col for col in cols_to_drop if col in azdias.columns ]\n",
    "print(len(cols_to_drop_azdias))\n",
    "azdias_coldropped = azdias.drop(columns=cols_to_drop_azdias)\n",
    "print('az: {}'.format(len(azdias_coldropped.columns)))\n",
    "\n",
    "cols_to_drop_customers = [col for col in cols_to_drop if col in customers.columns ]\n",
    "print(len(cols_to_drop_customers))\n",
    "customers_coldropped = customers.drop(columns=cols_to_drop_customers)\n",
    "print('cus: {}'.format(len(customers_coldropped.columns)))\n"
   ]
  },
  {
   "cell_type": "markdown",
   "metadata": {},
   "source": [
    "## replace missing/unknown with nan"
   ]
  },
  {
   "cell_type": "code",
   "execution_count": null,
   "metadata": {},
   "outputs": [],
   "source": [
    "# dictionary of missing/unknown value encoding\n",
    "replace_missing = data_type[~data_type['Missing values'].isnull()].set_index('Attribute')['Missing values'].to_dict()\n",
    "\n",
    "# replace missing values\n",
    "customers_clean_na = customers_coldropped.copy()\n",
    "customers_clean_na[customers_clean_na.isin(replace_missing)] = np.nan\n",
    "\n",
    "azdias_clean_na = azdias_coldropped.copy()\n",
    "azdias_clean_na[azdias_clean_na.isin(replace_missing)] = np.nan\n"
   ]
  },
  {
   "cell_type": "code",
   "execution_count": null,
   "metadata": {},
   "outputs": [],
   "source": [
    "def clean_df_values(df_in):\n",
    "    \n",
    "    df = df_in.copy()\n",
    "    \n",
    "    # turn object columns to numerical\n",
    "    object_cols = df.select_dtypes('object').columns\n",
    "    object_cols = object_cols[~object_cols.isin(['CAMEO_DEU_2015', 'OST_WEST_KZ'])]\n",
    "\n",
    "    if len(object_cols)>0:\n",
    "        df[object_cols] = df[object_cols].apply(pd.to_numeric, errors='coerce')\n",
    "\n",
    "    # Loop through columns, check if values are in the right range and right data type\n",
    "    for i, col in enumerate(df.columns):\n",
    "\n",
    "        # continous columns\n",
    "        if data_type.loc[data_type['Attribute']==col, 'Type'].iloc[0] == 'continous':\n",
    "            if pd.api.types.is_numeric_dtype(df[col]):\n",
    "                next\n",
    "            else:\n",
    "                print(col, df.dtypes[col])\n",
    "\n",
    "        # String encoded & int categorical columns\n",
    "        else:\n",
    "            in_possible_vals = df[col].isin(data_type.loc[data_type['Attribute']==col, 'Values'].iloc[0])\n",
    "            is_na = df[col].isna()\n",
    "\n",
    "            df.loc[~in_possible_vals & ~is_na, col] = pd.NA\n",
    "\n",
    "    return df"
   ]
  },
  {
   "cell_type": "code",
   "execution_count": null,
   "metadata": {},
   "outputs": [],
   "source": [
    "azdias_clean = clean_df_values(azdias_clean_na)"
   ]
  },
  {
   "cell_type": "code",
   "execution_count": null,
   "metadata": {},
   "outputs": [],
   "source": [
    "customers_clean = clean_df_values(customers_clean_na)"
   ]
  },
  {
   "cell_type": "code",
   "execution_count": null,
   "metadata": {},
   "outputs": [],
   "source": [
    "# azdias_clean.to_csv('../data/clean_azdias.csv')\n",
    "# customers_clean.to_csv('../data/clean_customers.csv')"
   ]
  },
  {
   "cell_type": "code",
   "execution_count": null,
   "metadata": {},
   "outputs": [],
   "source": []
  },
  {
   "cell_type": "code",
   "execution_count": null,
   "metadata": {},
   "outputs": [],
   "source": []
  },
  {
   "cell_type": "code",
   "execution_count": null,
   "metadata": {},
   "outputs": [],
   "source": []
  },
  {
   "cell_type": "code",
   "execution_count": null,
   "metadata": {},
   "outputs": [],
   "source": []
  },
  {
   "cell_type": "code",
   "execution_count": null,
   "metadata": {},
   "outputs": [],
   "source": []
  },
  {
   "cell_type": "markdown",
   "metadata": {},
   "source": [
    "## Compare to population"
   ]
  },
  {
   "cell_type": "markdown",
   "metadata": {},
   "source": [
    "Similar to Kolmogorov-Smirnov Test\n",
    "1. loop through each column\n",
    "  1. calculate relative proportions of each category\n",
    "    - for both population and costumers\n",
    "  2. Calculate difference for each\n",
    "  3. Sum the absolute value\n",
    "  \n",
    "2. Order columns by the biggest difference "
   ]
  },
  {
   "cell_type": "code",
   "execution_count": null,
   "metadata": {},
   "outputs": [],
   "source": []
  },
  {
   "cell_type": "code",
   "execution_count": null,
   "metadata": {},
   "outputs": [],
   "source": []
  },
  {
   "cell_type": "code",
   "execution_count": null,
   "metadata": {},
   "outputs": [],
   "source": []
  },
  {
   "cell_type": "code",
   "execution_count": 2,
   "metadata": {},
   "outputs": [],
   "source": [
    "customers_clean = pd.read_csv('../data/clean_customers.csv', index_col=0)"
   ]
  },
  {
   "cell_type": "code",
   "execution_count": 3,
   "metadata": {},
   "outputs": [
    {
     "data": {
      "text/html": [
       "<div>\n",
       "<style scoped>\n",
       "    .dataframe tbody tr th:only-of-type {\n",
       "        vertical-align: middle;\n",
       "    }\n",
       "\n",
       "    .dataframe tbody tr th {\n",
       "        vertical-align: top;\n",
       "    }\n",
       "\n",
       "    .dataframe thead th {\n",
       "        text-align: right;\n",
       "    }\n",
       "</style>\n",
       "<table border=\"1\" class=\"dataframe\">\n",
       "  <thead>\n",
       "    <tr style=\"text-align: right;\">\n",
       "      <th></th>\n",
       "      <th>AGER_TYP</th>\n",
       "      <th>ALTER_HH</th>\n",
       "      <th>ANZ_HAUSHALTE_AKTIV</th>\n",
       "      <th>ANZ_HH_TITEL</th>\n",
       "      <th>ANZ_PERSONEN</th>\n",
       "      <th>ANZ_TITEL</th>\n",
       "      <th>BALLRAUM</th>\n",
       "      <th>CAMEO_DEU_2015</th>\n",
       "      <th>CAMEO_DEUG_2015</th>\n",
       "      <th>CAMEO_INTL_2015</th>\n",
       "      <th>...</th>\n",
       "      <th>SHOPPER_TYP</th>\n",
       "      <th>SOHO_KZ</th>\n",
       "      <th>TITEL_KZ</th>\n",
       "      <th>VERS_TYP</th>\n",
       "      <th>W_KEIT_KIND_HH</th>\n",
       "      <th>WOHNDAUER_2008</th>\n",
       "      <th>WOHNLAGE</th>\n",
       "      <th>ZABEOTYP</th>\n",
       "      <th>ANREDE_KZ</th>\n",
       "      <th>ALTERSKATEGORIE_GROB</th>\n",
       "    </tr>\n",
       "  </thead>\n",
       "  <tbody>\n",
       "    <tr>\n",
       "      <th>0</th>\n",
       "      <td>2.0</td>\n",
       "      <td>10.0</td>\n",
       "      <td>1.0</td>\n",
       "      <td>0.0</td>\n",
       "      <td>2.0</td>\n",
       "      <td>0.0</td>\n",
       "      <td>3.0</td>\n",
       "      <td>1A</td>\n",
       "      <td>1.0</td>\n",
       "      <td>13.0</td>\n",
       "      <td>...</td>\n",
       "      <td>3.0</td>\n",
       "      <td>0.0</td>\n",
       "      <td>NaN</td>\n",
       "      <td>1.0</td>\n",
       "      <td>6.0</td>\n",
       "      <td>9.0</td>\n",
       "      <td>7.0</td>\n",
       "      <td>3</td>\n",
       "      <td>1</td>\n",
       "      <td>4</td>\n",
       "    </tr>\n",
       "    <tr>\n",
       "      <th>1</th>\n",
       "      <td>NaN</td>\n",
       "      <td>11.0</td>\n",
       "      <td>NaN</td>\n",
       "      <td>NaN</td>\n",
       "      <td>3.0</td>\n",
       "      <td>0.0</td>\n",
       "      <td>NaN</td>\n",
       "      <td>NaN</td>\n",
       "      <td>NaN</td>\n",
       "      <td>NaN</td>\n",
       "      <td>...</td>\n",
       "      <td>3.0</td>\n",
       "      <td>0.0</td>\n",
       "      <td>NaN</td>\n",
       "      <td>1.0</td>\n",
       "      <td>NaN</td>\n",
       "      <td>9.0</td>\n",
       "      <td>NaN</td>\n",
       "      <td>3</td>\n",
       "      <td>1</td>\n",
       "      <td>4</td>\n",
       "    </tr>\n",
       "    <tr>\n",
       "      <th>2</th>\n",
       "      <td>NaN</td>\n",
       "      <td>6.0</td>\n",
       "      <td>1.0</td>\n",
       "      <td>0.0</td>\n",
       "      <td>1.0</td>\n",
       "      <td>0.0</td>\n",
       "      <td>7.0</td>\n",
       "      <td>5D</td>\n",
       "      <td>5.0</td>\n",
       "      <td>34.0</td>\n",
       "      <td>...</td>\n",
       "      <td>1.0</td>\n",
       "      <td>0.0</td>\n",
       "      <td>NaN</td>\n",
       "      <td>2.0</td>\n",
       "      <td>6.0</td>\n",
       "      <td>9.0</td>\n",
       "      <td>2.0</td>\n",
       "      <td>3</td>\n",
       "      <td>2</td>\n",
       "      <td>4</td>\n",
       "    </tr>\n",
       "    <tr>\n",
       "      <th>3</th>\n",
       "      <td>1.0</td>\n",
       "      <td>8.0</td>\n",
       "      <td>0.0</td>\n",
       "      <td>NaN</td>\n",
       "      <td>0.0</td>\n",
       "      <td>0.0</td>\n",
       "      <td>7.0</td>\n",
       "      <td>4C</td>\n",
       "      <td>4.0</td>\n",
       "      <td>24.0</td>\n",
       "      <td>...</td>\n",
       "      <td>0.0</td>\n",
       "      <td>0.0</td>\n",
       "      <td>NaN</td>\n",
       "      <td>1.0</td>\n",
       "      <td>NaN</td>\n",
       "      <td>9.0</td>\n",
       "      <td>7.0</td>\n",
       "      <td>1</td>\n",
       "      <td>1</td>\n",
       "      <td>4</td>\n",
       "    </tr>\n",
       "    <tr>\n",
       "      <th>4</th>\n",
       "      <td>NaN</td>\n",
       "      <td>20.0</td>\n",
       "      <td>7.0</td>\n",
       "      <td>0.0</td>\n",
       "      <td>4.0</td>\n",
       "      <td>0.0</td>\n",
       "      <td>3.0</td>\n",
       "      <td>7B</td>\n",
       "      <td>7.0</td>\n",
       "      <td>41.0</td>\n",
       "      <td>...</td>\n",
       "      <td>1.0</td>\n",
       "      <td>0.0</td>\n",
       "      <td>NaN</td>\n",
       "      <td>2.0</td>\n",
       "      <td>2.0</td>\n",
       "      <td>9.0</td>\n",
       "      <td>3.0</td>\n",
       "      <td>1</td>\n",
       "      <td>1</td>\n",
       "      <td>3</td>\n",
       "    </tr>\n",
       "  </tbody>\n",
       "</table>\n",
       "<p>5 rows × 309 columns</p>\n",
       "</div>"
      ],
      "text/plain": [
       "   AGER_TYP  ALTER_HH  ANZ_HAUSHALTE_AKTIV  ANZ_HH_TITEL  ANZ_PERSONEN  \\\n",
       "0       2.0      10.0                  1.0           0.0           2.0   \n",
       "1       NaN      11.0                  NaN           NaN           3.0   \n",
       "2       NaN       6.0                  1.0           0.0           1.0   \n",
       "3       1.0       8.0                  0.0           NaN           0.0   \n",
       "4       NaN      20.0                  7.0           0.0           4.0   \n",
       "\n",
       "   ANZ_TITEL  BALLRAUM CAMEO_DEU_2015  CAMEO_DEUG_2015  CAMEO_INTL_2015  ...  \\\n",
       "0        0.0       3.0             1A              1.0             13.0  ...   \n",
       "1        0.0       NaN            NaN              NaN              NaN  ...   \n",
       "2        0.0       7.0             5D              5.0             34.0  ...   \n",
       "3        0.0       7.0             4C              4.0             24.0  ...   \n",
       "4        0.0       3.0             7B              7.0             41.0  ...   \n",
       "\n",
       "   SHOPPER_TYP  SOHO_KZ  TITEL_KZ  VERS_TYP  W_KEIT_KIND_HH  WOHNDAUER_2008  \\\n",
       "0          3.0      0.0       NaN       1.0             6.0             9.0   \n",
       "1          3.0      0.0       NaN       1.0             NaN             9.0   \n",
       "2          1.0      0.0       NaN       2.0             6.0             9.0   \n",
       "3          0.0      0.0       NaN       1.0             NaN             9.0   \n",
       "4          1.0      0.0       NaN       2.0             2.0             9.0   \n",
       "\n",
       "   WOHNLAGE  ZABEOTYP  ANREDE_KZ  ALTERSKATEGORIE_GROB  \n",
       "0       7.0         3          1                     4  \n",
       "1       NaN         3          1                     4  \n",
       "2       2.0         3          2                     4  \n",
       "3       7.0         1          1                     4  \n",
       "4       3.0         1          1                     3  \n",
       "\n",
       "[5 rows x 309 columns]"
      ]
     },
     "execution_count": 3,
     "metadata": {},
     "output_type": "execute_result"
    }
   ],
   "source": [
    "customers_clean.head()"
   ]
  },
  {
   "cell_type": "code",
   "execution_count": 4,
   "metadata": {},
   "outputs": [
    {
     "data": {
      "text/plain": [
       "ALTERSKATEGORIE_GROB        0.000000\n",
       "SEMIO_KULT                  0.000000\n",
       "SEMIO_LUST                  0.000000\n",
       "SEMIO_MAT                   0.000000\n",
       "D19_TECHNIK                 0.000000\n",
       "                              ...   \n",
       "D19_BANKEN_ANZ_12           0.939985\n",
       "D19_BANKEN_OFFLINE_DATUM    0.961127\n",
       "D19_TELKO_ANZ_12            0.962510\n",
       "TITEL_KZ                    0.987936\n",
       "D19_TELKO_ONLINE_DATUM      0.988855\n",
       "Length: 309, dtype: float64"
      ]
     },
     "execution_count": 4,
     "metadata": {},
     "output_type": "execute_result"
    }
   ],
   "source": [
    "cols_null = customers_clean.isnull().sum()/ len(customers_clean)\n",
    "cols_null.sort_values()"
   ]
  },
  {
   "cell_type": "code",
   "execution_count": 11,
   "metadata": {},
   "outputs": [
    {
     "data": {
      "text/plain": [
       "array([1., 4., 3., 5.])"
      ]
     },
     "execution_count": 11,
     "metadata": {},
     "output_type": "execute_result"
    }
   ],
   "source": [
    "customers_clean[~customers_clean['TITEL_KZ'].isnull()]['TITEL_KZ'].unique()"
   ]
  },
  {
   "cell_type": "code",
   "execution_count": 12,
   "metadata": {},
   "outputs": [
    {
     "data": {
      "image/png": "[encoded data removed]",
      "text/plain": [
       "<Figure size 432x288 with 1 Axes>"
      ]
     },
     "metadata": {
      "needs_background": "light"
     },
     "output_type": "display_data"
    }
   ],
   "source": [
    "sns.histplot(data=(customers_clean.isnull()).sum() / len(customers_clean))\n",
    "plt.xticks(ticks=np.arange(0,1.05,0.1));"
   ]
  },
  {
   "cell_type": "code",
   "execution_count": 13,
   "metadata": {},
   "outputs": [
    {
     "data": {
      "text/plain": [
       "KKK                          0.313401\n",
       "REGIOTYP                     0.313401\n",
       "D19_GESAMT_DATUM             0.315864\n",
       "ALTER_HH                     0.358707\n",
       "D19_VERSAND_DATUM            0.381640\n",
       "D19_GESAMT_OFFLINE_DATUM     0.465928\n",
       "D19_GESAMT_ONLINE_DATUM      0.468766\n",
       "D19_GESAMT_ANZ_24            0.478586\n",
       "AGER_TYP                     0.504759\n",
       "D19_VERSAND_ONLINE_DATUM     0.509293\n",
       "D19_VERSAND_OFFLINE_DATUM    0.522097\n",
       "D19_VERSAND_ANZ_24           0.534740\n",
       "KBA05_BAUMAX                 0.571531\n",
       "D19_GESAMT_ANZ_12            0.584387\n",
       "D19_VERSAND_ANZ_12           0.638167\n",
       "D19_TELKO_DATUM              0.777007\n",
       "D19_BANKEN_DATUM             0.797080\n",
       "D19_BANKEN_ONLINE_DATUM      0.874423\n",
       "D19_VERSI_ANZ_24             0.880930\n",
       "D19_BANKEN_ANZ_24            0.906335\n",
       "D19_TELKO_OFFLINE_DATUM      0.916635\n",
       "D19_VERSI_ANZ_12             0.924780\n",
       "D19_TELKO_ANZ_24             0.930911\n",
       "D19_BANKEN_ANZ_12            0.939985\n",
       "D19_BANKEN_OFFLINE_DATUM     0.961127\n",
       "D19_TELKO_ANZ_12             0.962510\n",
       "TITEL_KZ                     0.987936\n",
       "D19_TELKO_ONLINE_DATUM       0.988855\n",
       "dtype: float64"
      ]
     },
     "execution_count": 13,
     "metadata": {},
     "output_type": "execute_result"
    }
   ],
   "source": [
    "cols_null[cols_null>0.3].sort_values()"
   ]
  },
  {
   "cell_type": "code",
   "execution_count": 59,
   "metadata": {},
   "outputs": [
    {
     "data": {
      "image/png": "[encoded data removed]",
      "text/plain": [
       "<Figure size 432x288 with 1 Axes>"
      ]
     },
     "metadata": {
      "needs_background": "light"
     },
     "output_type": "display_data"
    }
   ],
   "source": [
    "# Drop rows with over 20% missing values\n",
    "customers_clean_dro = customers_clean[(customers_clean.isnull().sum(1) / len(customers_clean.columns) <= 0.2)].copy()\n",
    "sns.histplot(data=(customers_clean_dro.isnull()).sum(1) / len(customers_clean.columns));\n"
   ]
  },
  {
   "cell_type": "code",
   "execution_count": 60,
   "metadata": {},
   "outputs": [
    {
     "data": {
      "image/png": "[encoded data removed]",
      "text/plain": [
       "<Figure size 432x288 with 1 Axes>"
      ]
     },
     "metadata": {
      "needs_background": "light"
     },
     "output_type": "display_data"
    }
   ],
   "source": [
    "# Drop columns with over 20% missing values\n",
    "customers_clean_dro = customers_clean_dro[customers_clean.columns[(customers_clean.isnull().sum(0) / len(customers_clean) <= 0.2)]].copy()\n",
    "sns.histplot(data=(customers_clean_dro.isnull()).sum(0) / len(customers_clean));"
   ]
  },
  {
   "cell_type": "markdown",
   "metadata": {},
   "source": [
    "### Imputation"
   ]
  },
  {
   "cell_type": "code",
   "execution_count": 104,
   "metadata": {},
   "outputs": [],
   "source": [
    "from sklearn.impute import SimpleImputer\n",
    "simple_imp = SimpleImputer(strategy='most_frequent')\n",
    "\n",
    "from sklearn.experimental import enable_iterative_imputer\n",
    "from sklearn.impute import IterativeImputer\n",
    "from sklearn.impute import KNNImputer"
   ]
  },
  {
   "cell_type": "code",
   "execution_count": 62,
   "metadata": {},
   "outputs": [],
   "source": [
    "customers_imputed = simple_imp.fit_transform(customers_clean_dro)"
   ]
  },
  {
   "cell_type": "code",
   "execution_count": 63,
   "metadata": {},
   "outputs": [
    {
     "data": {
      "text/plain": [
       "0"
      ]
     },
     "execution_count": 63,
     "metadata": {},
     "output_type": "execute_result"
    }
   ],
   "source": [
    "pd.DataFrame(customers_imputed).isnull().sum().sum()"
   ]
  },
  {
   "cell_type": "markdown",
   "metadata": {},
   "source": [
    "__kNN Imputer__"
   ]
  },
  {
   "cell_type": "code",
   "execution_count": 105,
   "metadata": {},
   "outputs": [],
   "source": [
    "knn_imputer = KNNImputer(n_neighbors=3, weights=\"uniform\")"
   ]
  },
  {
   "cell_type": "code",
   "execution_count": 106,
   "metadata": {},
   "outputs": [],
   "source": [
    "customers_knn_imputed = knn_imputer.fit_transform(customers_clean_dro)"
   ]
  },
  {
   "cell_type": "markdown",
   "metadata": {},
   "source": [
    "## Part 1: Customer Segmentation Report\n",
    "\n",
    "The main bulk of your analysis will come in this part of the project. Here, you should use unsupervised learning techniques to describe the relationship between the demographics of the company's existing customers and the general population of Germany. By the end of this part, you should be able to describe parts of the general population that are more likely to be part of the mail-order company's main customer base, and which parts of the general population are less so."
   ]
  },
  {
   "cell_type": "code",
   "execution_count": 64,
   "metadata": {},
   "outputs": [],
   "source": [
    "from sklearn.decomposition import PCA\n",
    "from sklearn.preprocessing import StandardScaler\n",
    "from sklearn.cluster import KMeans"
   ]
  },
  {
   "cell_type": "code",
   "execution_count": 81,
   "metadata": {},
   "outputs": [],
   "source": [
    "pca = PCA()\n",
    "pca = pca.fit(X=StandardScaler().fit_transform(customers_imputed))\n",
    "\n",
    "cus_pca = pca.transform(X=StandardScaler().fit_transform(customers_imputed))"
   ]
  },
  {
   "cell_type": "code",
   "execution_count": 82,
   "metadata": {},
   "outputs": [
    {
     "name": "stdout",
     "output_type": "stream",
     "text": [
      "0.9999999999999998\n"
     ]
    },
    {
     "data": {
      "text/plain": [
       "<BarContainer object of 66 artists>"
      ]
     },
     "execution_count": 82,
     "metadata": {},
     "output_type": "execute_result"
    },
    {
     "data": {
      "image/png": "[encoded data removed]",
      "text/plain": [
       "<Figure size 432x288 with 1 Axes>"
      ]
     },
     "metadata": {
      "needs_background": "light"
     },
     "output_type": "display_data"
    }
   ],
   "source": [
    "print(np.sum(pca.explained_variance_ratio_))\n",
    "plt.bar(x=range(1,len(customers_clean_dro.columns)+1) , height=pca.explained_variance_ratio_)"
   ]
  },
  {
   "cell_type": "code",
   "execution_count": 83,
   "metadata": {},
   "outputs": [
    {
     "data": {
      "text/plain": [
       "<BarContainer object of 66 artists>"
      ]
     },
     "execution_count": 83,
     "metadata": {},
     "output_type": "execute_result"
    },
    {
     "data": {
      "image/png": "[encoded data removed]",
      "text/plain": [
       "<Figure size 432x288 with 1 Axes>"
      ]
     },
     "metadata": {
      "needs_background": "light"
     },
     "output_type": "display_data"
    }
   ],
   "source": [
    "plt.bar(x=range(1,len(customers_clean_dro.columns)+1) , height=np.cumsum(pca.explained_variance_ratio_))"
   ]
  },
  {
   "cell_type": "code",
   "execution_count": 85,
   "metadata": {},
   "outputs": [],
   "source": [
    "inertia = []\n",
    "\n",
    "for n_clus in range(2,41):\n",
    "    kmeans = KMeans(n_clusters=n_clus)\n",
    "    kmeans = kmeans.fit(cus_pca)\n",
    "    inertia.append(kmeans.inertia_)"
   ]
  },
  {
   "cell_type": "code",
   "execution_count": 86,
   "metadata": {},
   "outputs": [
    {
     "data": {
      "text/plain": [
       "[<matplotlib.lines.Line2D at 0x7f3b951ca3d0>]"
      ]
     },
     "execution_count": 86,
     "metadata": {},
     "output_type": "execute_result"
    },
    {
     "data": {
      "image/png": "[encoded data removed]",
      "text/plain": [
       "<Figure size 432x288 with 1 Axes>"
      ]
     },
     "metadata": {
      "needs_background": "light"
     },
     "output_type": "display_data"
    }
   ],
   "source": [
    "plt.plot(inertia)"
   ]
  },
  {
   "cell_type": "code",
   "execution_count": 102,
   "metadata": {},
   "outputs": [],
   "source": [
    "inertia = []\n",
    "\n",
    "for n_clus in range(2,41):\n",
    "    kmeans = KMeans(n_clusters=n_clus)\n",
    "    kmeans = kmeans.fit(cus_pca[:,:50])\n",
    "    inertia.append(kmeans.inertia_)"
   ]
  },
  {
   "cell_type": "code",
   "execution_count": 103,
   "metadata": {},
   "outputs": [
    {
     "data": {
      "text/plain": [
       "[<matplotlib.lines.Line2D at 0x7f3b928e5c40>]"
      ]
     },
     "execution_count": 103,
     "metadata": {},
     "output_type": "execute_result"
    },
    {
     "data": {
      "image/png": "[encoded data removed]",
      "text/plain": [
       "<Figure size 432x288 with 1 Axes>"
      ]
     },
     "metadata": {
      "needs_background": "light"
     },
     "output_type": "display_data"
    }
   ],
   "source": [
    "plt.plot(inertia)"
   ]
  },
  {
   "cell_type": "markdown",
   "metadata": {},
   "source": [
    "__KNN Imputed KMeans__"
   ]
  },
  {
   "cell_type": "code",
   "execution_count": 109,
   "metadata": {},
   "outputs": [
    {
     "name": "stdout",
     "output_type": "stream",
     "text": [
      "0.9999999999999999\n"
     ]
    },
    {
     "data": {
      "text/plain": [
       "<BarContainer object of 66 artists>"
      ]
     },
     "execution_count": 109,
     "metadata": {},
     "output_type": "execute_result"
    },
    {
     "data": {
      "image/png": "[encoded data removed]",
      "text/plain": [
       "<Figure size 432x288 with 1 Axes>"
      ]
     },
     "metadata": {
      "needs_background": "light"
     },
     "output_type": "display_data"
    }
   ],
   "source": [
    "pca = PCA()\n",
    "pca = pca.fit(X=StandardScaler().fit_transform(customers_knn_imputed))\n",
    "\n",
    "cus_pca = pca.transform(X=StandardScaler().fit_transform(customers_knn_imputed))\n",
    "\n",
    "print(np.sum(pca.explained_variance_ratio_))\n",
    "plt.bar(x=range(1,len(customers_clean_dro.columns)+1) , height=pca.explained_variance_ratio_)"
   ]
  },
  {
   "cell_type": "code",
   "execution_count": 110,
   "metadata": {},
   "outputs": [
    {
     "data": {
      "text/plain": [
       "<BarContainer object of 66 artists>"
      ]
     },
     "execution_count": 110,
     "metadata": {},
     "output_type": "execute_result"
    },
    {
     "data": {
      "image/png": "[encoded data removed]",
      "text/plain": [
       "<Figure size 432x288 with 1 Axes>"
      ]
     },
     "metadata": {
      "needs_background": "light"
     },
     "output_type": "display_data"
    }
   ],
   "source": [
    "plt.bar(x=range(1,len(customers_clean_dro.columns)+1) , height=np.cumsum(pca.explained_variance_ratio_))"
   ]
  },
  {
   "cell_type": "code",
   "execution_count": 111,
   "metadata": {},
   "outputs": [
    {
     "data": {
      "text/plain": [
       "[<matplotlib.lines.Line2D at 0x7f3b91321190>]"
      ]
     },
     "execution_count": 111,
     "metadata": {},
     "output_type": "execute_result"
    },
    {
     "data": {
      "image/png": "[encoded data removed]",
      "text/plain": [
       "<Figure size 432x288 with 1 Axes>"
      ]
     },
     "metadata": {
      "needs_background": "light"
     },
     "output_type": "display_data"
    }
   ],
   "source": [
    "inertia = []\n",
    "\n",
    "for n_clus in range(2,41):\n",
    "    kmeans = KMeans(n_clusters=n_clus)\n",
    "    kmeans = kmeans.fit(cus_pca)\n",
    "    inertia.append(kmeans.inertia_)\n",
    "    \n",
    "plt.plot(inertia)"
   ]
  },
  {
   "cell_type": "code",
   "execution_count": null,
   "metadata": {},
   "outputs": [],
   "source": []
  },
  {
   "cell_type": "markdown",
   "metadata": {},
   "source": [
    "## Part 2: Supervised Learning Model\n",
    "\n",
    "Now that you've found which parts of the population are more likely to be customers of the mail-order company, it's time to build a prediction model. Each of the rows in the \"MAILOUT\" data files represents an individual that was targeted for a mailout campaign. Ideally, we should be able to use the demographic information from each individual to decide whether or not it will be worth it to include that person in the campaign.\n",
    "\n",
    "The \"MAILOUT\" data has been split into two approximately equal parts, each with almost 43 000 data rows. In this part, you can verify your model with the \"TRAIN\" partition, which includes a column, \"RESPONSE\", that states whether or not a person became a customer of the company following the campaign. In the next part, you'll need to create predictions on the \"TEST\" partition, where the \"RESPONSE\" column has been withheld."
   ]
  },
  {
   "cell_type": "code",
   "execution_count": null,
   "metadata": {},
   "outputs": [],
   "source": [
    "mailout_train = pd.read_csv('../../data/Term2/capstone/arvato_data/Udacity_MAILOUT_052018_TRAIN.csv', sep=';')"
   ]
  },
  {
   "cell_type": "code",
   "execution_count": null,
   "metadata": {},
   "outputs": [],
   "source": []
  },
  {
   "cell_type": "markdown",
   "metadata": {},
   "source": [
    "## Part 3: Kaggle Competition\n",
    "\n",
    "Now that you've created a model to predict which individuals are most likely to respond to a mailout campaign, it's time to test that model in competition through Kaggle. If you click on the link [here](http://www.kaggle.com/t/21e6d45d4c574c7fa2d868f0e8c83140), you'll be taken to the competition page where, if you have a Kaggle account, you can enter.\n",
    "\n",
    "Your entry to the competition should be a CSV file with two columns. The first column should be a copy of \"LNR\", which acts as an ID number for each individual in the \"TEST\" partition. The second column, \"RESPONSE\", should be some measure of how likely each individual became a customer – this might not be a straightforward probability. As you should have found in Part 2, there is a large output class imbalance, where most individuals did not respond to the mailout. Thus, predicting individual classes and using accuracy does not seem to be an appropriate performance evaluation method. Instead, the competition will be using AUC to evaluate performance. The exact values of the \"RESPONSE\" column do not matter as much: only that the higher values try to capture as many of the actual customers as possible, early in the ROC curve sweep."
   ]
  },
  {
   "cell_type": "code",
   "execution_count": null,
   "metadata": {},
   "outputs": [],
   "source": [
    "mailout_test = pd.read_csv('../../data/Term2/capstone/arvato_data/Udacity_MAILOUT_052018_TEST.csv', sep=';')"
   ]
  },
  {
   "cell_type": "code",
   "execution_count": null,
   "metadata": {},
   "outputs": [],
   "source": []
  }
 ],
 "metadata": {
  "kernelspec": {
   "display_name": "Python 3",
   "language": "python",
   "name": "python3"
  },
  "language_info": {
   "codemirror_mode": {
    "name": "ipython",
    "version": 3
   },
   "file_extension": ".py",
   "mimetype": "text/x-python",
   "name": "python",
   "nbconvert_exporter": "python",
   "pygments_lexer": "ipython3",
   "version": "3.8.2"
  }
 },
 "nbformat": 4,
 "nbformat_minor": 2
}
